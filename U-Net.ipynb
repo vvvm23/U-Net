{
  "nbformat": 4,
  "nbformat_minor": 0,
  "metadata": {
    "colab": {
      "name": "U-Net.ipynb",
      "provenance": []
    },
    "kernelspec": {
      "name": "python3",
      "display_name": "Python 3"
    },
    "accelerator": "GPU"
  },
  "cells": [
    {
      "cell_type": "code",
      "metadata": {
        "id": "KTna3Nru1Esv"
      },
      "source": [
        "# Imports PyTorch and alias some parts of it\n",
        "import torch\n",
        "import torch.nn as nn\n",
        "import torch.nn.functional as F\n",
        "import torchvision\n",
        "\n",
        "# matplotlib for visualisation\n",
        "import matplotlib.pyplot as plt\n",
        "\n",
        "# tqdm for loading bars\n",
        "import tqdm"
      ],
      "execution_count": 1,
      "outputs": []
    },
    {
      "cell_type": "code",
      "metadata": {
        "id": "X8Rk66bmfWfe"
      },
      "source": [
        "# Make the size of the figures larger\n",
        "plt.rcParams['figure.figsize'] = [20, 20]"
      ],
      "execution_count": 2,
      "outputs": []
    },
    {
      "cell_type": "code",
      "metadata": {
        "id": "TbBrm9KK57Nm"
      },
      "source": [
        "# Some script parameters\n",
        "USE_CUDA = True\n",
        "BATCH_SIZE = 64\n",
        "NB_EPOCHS = 5"
      ],
      "execution_count": 3,
      "outputs": []
    },
    {
      "cell_type": "code",
      "metadata": {
        "id": "GZcDe6HK2-Pv",
        "outputId": "dc943399-45d1-4ef2-ce18-d1c7a5b1e361",
        "colab": {
          "base_uri": "https://localhost:8080/",
          "height": 34
        }
      },
      "source": [
        "# Load CUDA device if available\n",
        "device = torch.device('cuda' if USE_CUDA and torch.cuda.is_available() else 'cpu')\n",
        "print(device)"
      ],
      "execution_count": 4,
      "outputs": [
        {
          "output_type": "stream",
          "text": [
            "cuda\n"
          ],
          "name": "stdout"
        }
      ]
    },
    {
      "cell_type": "code",
      "metadata": {
        "id": "yPQCKbNMPgDU"
      },
      "source": [
        "# Inherit from the MNIST dataset class and add my own segmentation code\n",
        "class SegmentationMNIST(torchvision.datasets.MNIST):\n",
        "  def __init__(self, *args, **kwargs):\n",
        "    super().__init__(*args, **kwargs)\n",
        "    self.transforms = torchvision.transforms.Compose([\n",
        "      torchvision.transforms.Resize(32),\n",
        "      torchvision.transforms.ToTensor()\n",
        "    ])\n",
        "\n",
        "  def __getitem__(self, idx):\n",
        "    THRESHOLD = 0.5\n",
        "    x, label = super().__getitem__(idx)\n",
        "\n",
        "    x = self.transforms(x)\n",
        "    mask = (x > THRESHOLD)\n",
        "    y = torch.zeros(10, 32, 32)\n",
        "    y[label:label+1] += mask\n",
        "    return x, y, label"
      ],
      "execution_count": 5,
      "outputs": []
    },
    {
      "cell_type": "code",
      "metadata": {
        "id": "Y0KsFPMw5ZAr"
      },
      "source": [
        "# Loads dataset and dataloaders\n",
        "train_dataset, test_dataset = SegmentationMNIST(\"data\", train=True, download=True), \\\n",
        "                              SegmentationMNIST(\"data\", train=False, download=True)\n",
        "\n",
        "train_dataloader, test_dataloader = torch.utils.data.DataLoader(train_dataset, batch_size=BATCH_SIZE, shuffle=True), \\\n",
        "                                    torch.utils.data.DataLoader(test_dataset, batch_size=BATCH_SIZE, shuffle=False)"
      ],
      "execution_count": 6,
      "outputs": []
    },
    {
      "cell_type": "code",
      "metadata": {
        "id": "cRSUWG7852Nz"
      },
      "source": [
        "# U-Net downsampling layer module\n",
        "# 2x Conv (3x3) -> ReLU -> MaxPool (2x2)\n",
        "class UNetDownLayer(nn.Module):\n",
        "  def __init__(self, in_ch, out_ch, dropout=0.0):\n",
        "    super().__init__()\n",
        "    self.conv1 = nn.Sequential(nn.Conv2d(in_ch, out_ch, 3, padding=1),\n",
        "                               nn.BatchNorm2d(out_ch),\n",
        "                               nn.Dropout(dropout))\n",
        "    self.conv2 = nn.Sequential(nn.Conv2d(out_ch, out_ch, 3, padding=1),\n",
        "                               nn.BatchNorm2d(out_ch),\n",
        "                               nn.Dropout(dropout))\n",
        "\n",
        "  def forward(self, x):\n",
        "    x = self.conv1(x)\n",
        "    x = self.conv2(x)\n",
        "\n",
        "    x = F.relu(x)\n",
        "    x = F.max_pool2d(x, kernel_size=2, stride=2)\n",
        "\n",
        "    return x\n",
        "\n",
        "# U-Net upsampling layer module\n",
        "# UpConv (2x2 -> Concatenate -> 2x Conv (3x3) -> ReLU\n",
        "class UNetUpLayer(nn.Module):\n",
        "  def __init__(self, in_ch, out_ch, dropout=0.0):\n",
        "    super().__init__()\n",
        "    self.up_conv = nn.Sequential(nn.ConvTranspose2d(in_ch, out_ch, 2, stride=2),\n",
        "                               nn.BatchNorm2d(out_ch),\n",
        "                               nn.Dropout(dropout))\n",
        "    self.conv1 = nn.Sequential(nn.Conv2d(out_ch*2, out_ch, 3, padding=1),\n",
        "                               nn.BatchNorm2d(out_ch),\n",
        "                               nn.Dropout(dropout))\n",
        "    self.conv2 = nn.Sequential(nn.Conv2d(out_ch, out_ch, 3, padding=1),\n",
        "                               nn.BatchNorm2d(out_ch),\n",
        "                               nn.Dropout(dropout))\n",
        "    \n",
        "  def forward(self, x, z):\n",
        "    x = self.up_conv(x)\n",
        "    xz = torch.cat([x, z], dim=1)\n",
        "  \n",
        "    xz = self.conv1(xz)\n",
        "    xz = self.conv2(xz)\n",
        "\n",
        "    xz = F.relu(xz)\n",
        "    return xz\n",
        "\n",
        "# Main U-Net model module\n",
        "class UNet(nn.Module):\n",
        "  def __init__(self, in_ch, init_channels, nb_classes, nb_layers, dropout=0.0):\n",
        "    super().__init__()\n",
        "    assert(nb_layers > 1) # Number of layers must be more than 1\n",
        "\n",
        "    # Create contracting path of downsampling layers\n",
        "    self.contract = nn.ModuleList()\n",
        "    prev_size = in_ch\n",
        "    next_size = init_channels\n",
        "\n",
        "    for l in range(nb_layers):\n",
        "      self.contract.append(UNetDownLayer(prev_size, next_size, dropout=dropout))\n",
        "      prev_size, next_size = next_size, next_size*2\n",
        "\n",
        "    # Create expanding path of upsampling layers\n",
        "    self.expand = nn.ModuleList()\n",
        "    next_size = prev_size // 2\n",
        "    for l in range(nb_layers - 1):\n",
        "      self.expand.append(UNetUpLayer(prev_size, next_size, dropout=dropout))\n",
        "      prev_size, next_size = next_size, next_size // 2\n",
        "\n",
        "    # Creates output head, resizing to correct dimensions. Then (1x1) conv to nb_classes channels\n",
        "    self.out = nn.Sequential(nn.ConvTranspose2d(prev_size, prev_size, 2, stride=2),\n",
        "                             nn.BatchNorm2d(prev_size),\n",
        "                             nn.Dropout(dropout),\n",
        "                             nn.Conv2d(prev_size, nb_classes, 1))\n",
        "\n",
        "  def forward(self, x):\n",
        "    # Store intermediate values in downsampling path\n",
        "    tiles = []\n",
        "\n",
        "    for l in self.contract:\n",
        "      x = l(x)\n",
        "      tiles.append(x.clone())\n",
        "\n",
        "    tiles = tiles[::-1]\n",
        "    for i, l in enumerate(self.expand):\n",
        "      x = l(x, tiles[i+1])\n",
        "\n",
        "    x = self.out(x)\n",
        "    x = torch.sigmoid(x) # Sigmoid as possible for the same pixel to belong to multiple classes\n",
        "    return x\n",
        "\n",
        "model = UNet(1, 64, 10, 5).to(device)"
      ],
      "execution_count": 7,
      "outputs": []
    },
    {
      "cell_type": "code",
      "metadata": {
        "id": "wdMkd8gqOOnd",
        "outputId": "064a9477-2155-4356-e93b-268b9837fd5f",
        "colab": {
          "base_uri": "https://localhost:8080/",
          "height": 442
        }
      },
      "source": [
        "optim = torch.optim.Adam(model.parameters())\n",
        "crit = nn.MSELoss()\n",
        "\n",
        "# Main training loop\n",
        "for ei in range(NB_EPOCHS):\n",
        "  # Training Mode\n",
        "  model.train()\n",
        "  training_loss = 0.0\n",
        "  evaluation_loss = 0.0\n",
        "  for bx, by, _ in tqdm.tqdm(train_dataloader):\n",
        "    optim.zero_grad()\n",
        "    bx, by = bx.to(device), by.to(device)\n",
        "    pred = model(bx)\n",
        "\n",
        "    loss = crit(by, pred)\n",
        "    training_loss += loss.item()\n",
        "\n",
        "    loss.backward()\n",
        "    optim.step()\n",
        "\n",
        "  # Evaluation Mode\n",
        "  with torch.no_grad():\n",
        "    model.eval()\n",
        "    for bx, by, _ in test_dataloader:\n",
        "      optim.zero_grad()\n",
        "      bx, by = bx.to(device), by.to(device)\n",
        "      pred = model(bx)\n",
        "\n",
        "      loss = crit(by, pred)\n",
        "      evaluation_loss += loss.item()\n",
        "\n",
        "    print(f\"\\nEpoch {ei+1} end.\")\n",
        "    print(f\"Training Loss: {training_loss / len(train_dataloader)}\")\n",
        "    print(f\"Validation Loss: {evaluation_loss / len(test_dataloader)}\")"
      ],
      "execution_count": 8,
      "outputs": [
        {
          "output_type": "stream",
          "text": [
            "100%|██████████| 938/938 [01:11<00:00, 13.08it/s]\n",
            "  0%|          | 2/938 [00:00<00:59, 15.80it/s]"
          ],
          "name": "stderr"
        },
        {
          "output_type": "stream",
          "text": [
            "\n",
            "Epoch 1 end.\n",
            "Training Loss: 0.03532183061895976\n",
            "Validation Loss: 0.010740425508872718\n"
          ],
          "name": "stdout"
        },
        {
          "output_type": "stream",
          "text": [
            "100%|██████████| 938/938 [01:13<00:00, 12.69it/s]\n",
            "  0%|          | 2/938 [00:00<00:59, 15.85it/s]"
          ],
          "name": "stderr"
        },
        {
          "output_type": "stream",
          "text": [
            "\n",
            "Epoch 2 end.\n",
            "Training Loss: 0.004102323964515677\n",
            "Validation Loss: 0.0012810243557616595\n"
          ],
          "name": "stdout"
        },
        {
          "output_type": "stream",
          "text": [
            "100%|██████████| 938/938 [01:15<00:00, 12.47it/s]\n",
            "  0%|          | 2/938 [00:00<00:59, 15.74it/s]"
          ],
          "name": "stderr"
        },
        {
          "output_type": "stream",
          "text": [
            "\n",
            "Epoch 3 end.\n",
            "Training Loss: 0.001119142012317667\n",
            "Validation Loss: 0.0009104743452333389\n"
          ],
          "name": "stdout"
        },
        {
          "output_type": "stream",
          "text": [
            "100%|██████████| 938/938 [01:15<00:00, 12.35it/s]\n",
            "  0%|          | 2/938 [00:00<00:59, 15.64it/s]"
          ],
          "name": "stderr"
        },
        {
          "output_type": "stream",
          "text": [
            "\n",
            "Epoch 4 end.\n",
            "Training Loss: 0.0008315663574499759\n",
            "Validation Loss: 0.0006864715310460205\n"
          ],
          "name": "stdout"
        },
        {
          "output_type": "stream",
          "text": [
            "100%|██████████| 938/938 [01:15<00:00, 12.35it/s]\n"
          ],
          "name": "stderr"
        },
        {
          "output_type": "stream",
          "text": [
            "\n",
            "Epoch 5 end.\n",
            "Training Loss: 0.0006539323699638508\n",
            "Validation Loss: 0.0006098145543772633\n"
          ],
          "name": "stdout"
        }
      ]
    },
    {
      "cell_type": "code",
      "metadata": {
        "id": "9bXouf9XbcOd",
        "outputId": "5929ee43-3f78-400f-9568-b8a1e4c038b5",
        "colab": {
          "base_uri": "https://localhost:8080/",
          "height": 1000
        }
      },
      "source": [
        "# Visualise input image, true label mask and predicted label mask\n",
        "model.eval()\n",
        "test_loader = torch.utils.data.DataLoader(test_dataset, batch_size=1, shuffle=True)\n",
        "\n",
        "fix, axs = plt.subplots(16, 3)\n",
        "\n",
        "for i, (x, y, l) in enumerate(test_loader):\n",
        "  if i == 16:\n",
        "    break\n",
        "\n",
        "  x = x.to(device)\n",
        "  pred = model(x)\n",
        "\n",
        "  x = x.reshape(32, 32).detach().cpu().numpy()\n",
        "  y = y[0, l, :, :].reshape(32, 32).detach().cpu().numpy()\n",
        "  pred = pred[0, l, :, :].reshape(32, 32).detach().cpu().numpy()\n",
        "\n",
        "  axs[i, 0].imshow(x, interpolation='none', cmap='gray')\n",
        "  axs[i, 1].imshow(pred, interpolation='none', cmap='gray')\n",
        "  axs[i, 2].imshow(y, interpolation='none', cmap='gray')\n",
        "[[x.axis(False) for x in y] for y in axs]\n",
        "plt.show()"
      ],
      "execution_count": 9,
      "outputs": [
        {
          "output_type": "display_data",
          "data": {
            "image/png": "[encoded data removed]",
            "text/plain": [
              "<Figure size 1440x1440 with 48 Axes>"
            ]
          },
          "metadata": {
            "tags": [],
            "needs_background": "light"
          }
        }
      ]
    }
  ]
}